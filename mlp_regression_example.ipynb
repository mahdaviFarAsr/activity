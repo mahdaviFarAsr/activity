{
  "nbformat": 4,
  "nbformat_minor": 0,
  "metadata": {
    "colab": {
      "name": "mlp regression example.ipynb",
      "provenance": [],
      "mount_file_id": "1gsDDfjoIzUtky5vcV3iWxXit6FF1ftJo",
      "authorship_tag": "ABX9TyML4PzA75vbT86cNmiulstc",
      "include_colab_link": true
    },
    "kernelspec": {
      "name": "python3",
      "display_name": "Python 3"
    },
    "language_info": {
      "name": "python"
    },
    "accelerator": "GPU",
    "gpuClass": "standard"
  },
  "cells": [
    {
      "cell_type": "markdown",
      "metadata": {
        "id": "view-in-github",
        "colab_type": "text"
      },
      "source": [
        "<a href=\"https://colab.research.google.com/github/mahdaviFarAsr/activity/blob/reg_mlp/mlp_regression_example.ipynb\" target=\"_parent\"><img src=\"https://colab.research.google.com/assets/colab-badge.svg\" alt=\"Open In Colab\"/></a>"
      ]
    },
    {
      "cell_type": "code",
      "execution_count": 10,
      "metadata": {
        "id": "QyspWuEfvPsX"
      },
      "outputs": [],
      "source": [
        "from sklearn.datasets import fetch_california_housing\n",
        "from sklearn.model_selection import train_test_split\n",
        "from sklearn.preprocessing import StandardScaler\n",
        "import tensorflow as tf\n",
        "from tensorflow import keras"
      ]
    },
    {
      "cell_type": "code",
      "source": [
        "houses = fetch_california_housing()\n",
        "xTrain, xTest, yTrain, yTest = train_test_split(houses.data, houses.target)\n",
        "xTrain, xValid, yTrain, yValid = train_test_split(xTrain, yTrain)\n",
        "print(xTrain.shape, yTrain.dtype)"
      ],
      "metadata": {
        "colab": {
          "base_uri": "https://localhost:8080/"
        },
        "id": "vXk6SJL6yZFH",
        "outputId": "9fa1519f-4587-46ed-f738-a2099db502b4"
      },
      "execution_count": 8,
      "outputs": [
        {
          "output_type": "stream",
          "name": "stdout",
          "text": [
            "(11610, 8) float64\n"
          ]
        }
      ]
    },
    {
      "cell_type": "code",
      "source": [
        "# print(xTrain, yTrain)"
      ],
      "metadata": {
        "id": "BsDHmcuezktk"
      },
      "execution_count": null,
      "outputs": []
    },
    {
      "cell_type": "code",
      "source": [
        "scaler = StandardScaler()\n",
        "xTrain = scaler.fit_transform(xTrain)\n",
        "xTest = scaler.transform(xTest)\n",
        "xValid = scaler.transform(xValid)\n",
        "# print(xTrain)\n",
        "# print(xTest)"
      ],
      "metadata": {
        "id": "dG2fWBxpz9qs"
      },
      "execution_count": null,
      "outputs": []
    },
    {
      "cell_type": "code",
      "source": [
        "from numpy.ma.core import shape\n",
        "model = keras.models.Sequential([keras.layers.Dense(30, activation=\"relu\" , input_shape = xTrain.shape[1:]),\n",
        "keras.layers.Dense(1)])"
      ],
      "metadata": {
        "id": "4N0W5hwn1GMc"
      },
      "execution_count": 12,
      "outputs": []
    },
    {
      "cell_type": "code",
      "source": [
        "model.compile(loss = \"mean_squared_error\", optimizer = \"sgd\")"
      ],
      "metadata": {
        "id": "C0z_h_M_4F1H"
      },
      "execution_count": 13,
      "outputs": []
    },
    {
      "cell_type": "code",
      "source": [
        "history = model.fit(xTrain, yTrain, epochs = 20, validation_data=(xValid, yValid))"
      ],
      "metadata": {
        "id": "12zZAvrP4Z8b"
      },
      "execution_count": null,
      "outputs": []
    },
    {
      "cell_type": "code",
      "source": [
        "evaluateModel = model.evaluate(xTest, yTest)"
      ],
      "metadata": {
        "colab": {
          "base_uri": "https://localhost:8080/"
        },
        "id": "nhWsxJzl5p-1",
        "outputId": "ac308d29-0644-492d-e217-c7c6e32fea44"
      },
      "execution_count": 22,
      "outputs": [
        {
          "output_type": "stream",
          "name": "stdout",
          "text": [
            "162/162 [==============================] - 0s 2ms/step - loss: 1.3194\n"
          ]
        }
      ]
    },
    {
      "cell_type": "code",
      "source": [
        "import pandas as pd\n",
        "import matplotlib.pyplot as plt\n",
        "pd.DataFrame(history.history).plot(figsize=(8, 5))\n",
        "plt.grid(True)\n",
        "plt.gca().set_ylim(0, 1)  # set the vertical range to [0-1]\n",
        "plt.show()"
      ],
      "metadata": {
        "colab": {
          "base_uri": "https://localhost:8080/",
          "height": 324
        },
        "id": "TMR9yfEW461c",
        "outputId": "67913321-4044-45ff-9215-bec18b7903b5"
      },
      "execution_count": 23,
      "outputs": [
        {
          "output_type": "display_data",
          "data": {
            "text/plain": [
              "<Figure size 576x360 with 1 Axes>"
            ],
            "image/png": "[encoded data removed]"
          },
          "metadata": {
            "needs_background": "light"
          }
        }
      ]
    }
  ]
}